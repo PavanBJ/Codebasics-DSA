{
  "nbformat": 4,
  "nbformat_minor": 0,
  "metadata": {
    "colab": {
      "provenance": [],
      "authorship_tag": "ABX9TyNy8RX0uyfUjq/f/F01Idf9",
      "include_colab_link": true
    },
    "kernelspec": {
      "name": "python3",
      "display_name": "Python 3"
    },
    "language_info": {
      "name": "python"
    }
  },
  "cells": [
    {
      "cell_type": "markdown",
      "metadata": {
        "id": "view-in-github",
        "colab_type": "text"
      },
      "source": [
        "<a href=\"https://colab.research.google.com/github/PavanBJ/Codebasics-DSA/blob/main/Arrays_Codebasics.ipynb\" target=\"_parent\"><img src=\"https://colab.research.google.com/assets/colab-badge.svg\" alt=\"Open In Colab\"/></a>"
      ]
    },
    {
      "cell_type": "markdown",
      "source": [
        "Arrays - 19/09/2022\n",
        "\n",
        "# Exercise: Array DataStructure\n",
        "\n",
        "1. Let us say your expense for every month are listed below,\n",
        "\t1. January -  2200\n",
        " \t2. February - 2350\n",
        "    3. March - 2600\n",
        "    4. April - 2130\n",
        "    5. May - 2190\n",
        "\n",
        "Create a list to store these monthly expenses and using that find out,\n",
        "\n",
        "    1. In Feb, how many dollars you spent extra compare to January?\n",
        "    2. Find out your total expense in first quarter (first three months) of the year.\n",
        "    3. Find out if you spent exactly 2000 dollars in any month\n",
        "    4. June month just finished and your expense is 1980 dollar. Add this item to our monthly expense list\n",
        "    5. You returned an item that you bought in a month of April and\n",
        "    got a refund of 200$. Make a correction to your monthly expense list\n",
        "    based on this\n"
      ],
      "metadata": {
        "id": "iZ6BMxU_DTwn"
      }
    },
    {
      "cell_type": "code",
      "source": [
        "exp = [2200,2350,2600,2130,2190]"
      ],
      "metadata": {
        "id": "wQSItUEIDdnW"
      },
      "execution_count": 11,
      "outputs": []
    },
    {
      "cell_type": "code",
      "source": [
        "#1\n",
        "exp[1]-exp[0]"
      ],
      "metadata": {
        "colab": {
          "base_uri": "https://localhost:8080/"
        },
        "id": "cW9HLcnXDt6X",
        "outputId": "760bffbb-5c14-475a-9f7d-fe4098219596"
      },
      "execution_count": 12,
      "outputs": [
        {
          "output_type": "execute_result",
          "data": {
            "text/plain": [
              "150"
            ]
          },
          "metadata": {},
          "execution_count": 12
        }
      ]
    },
    {
      "cell_type": "code",
      "source": [
        "#2\n",
        "sum(exp[:3])"
      ],
      "metadata": {
        "colab": {
          "base_uri": "https://localhost:8080/"
        },
        "id": "-7KdwwQKDyqh",
        "outputId": "5b333558-0c6b-40c4-8304-b11d7cf2c404"
      },
      "execution_count": 13,
      "outputs": [
        {
          "output_type": "execute_result",
          "data": {
            "text/plain": [
              "7150"
            ]
          },
          "metadata": {},
          "execution_count": 13
        }
      ]
    },
    {
      "cell_type": "code",
      "source": [
        "#3\n",
        "2000 in exp"
      ],
      "metadata": {
        "colab": {
          "base_uri": "https://localhost:8080/"
        },
        "id": "Nko4f1IlD-5g",
        "outputId": "050f8525-5e9f-499b-8a67-4d47386eccb6"
      },
      "execution_count": 14,
      "outputs": [
        {
          "output_type": "execute_result",
          "data": {
            "text/plain": [
              "False"
            ]
          },
          "metadata": {},
          "execution_count": 14
        }
      ]
    },
    {
      "cell_type": "code",
      "source": [
        "#4\n",
        "exp.append(1980)\n",
        "print(exp)"
      ],
      "metadata": {
        "colab": {
          "base_uri": "https://localhost:8080/"
        },
        "id": "KtbHaYzfERtw",
        "outputId": "e36c5ae2-ec5d-4e32-e45c-ba2e4d1e4528"
      },
      "execution_count": 15,
      "outputs": [
        {
          "output_type": "stream",
          "name": "stdout",
          "text": [
            "[2200, 2350, 2600, 2130, 2190, 1980]\n"
          ]
        }
      ]
    },
    {
      "cell_type": "code",
      "source": [
        "#5\n",
        "print('Before correction:',exp)\n",
        "exp[3] = exp[3]-200\n",
        "print('After correction:',exp)"
      ],
      "metadata": {
        "colab": {
          "base_uri": "https://localhost:8080/"
        },
        "id": "gqyqsQpFEcDO",
        "outputId": "c0915fc7-daf3-45ad-dfea-a4ebd9ca6f6f"
      },
      "execution_count": 16,
      "outputs": [
        {
          "output_type": "stream",
          "name": "stdout",
          "text": [
            "Before correction: [2200, 2350, 2600, 2130, 2190, 1980]\n",
            "After correction: [2200, 2350, 2600, 1930, 2190, 1980]\n"
          ]
        }
      ]
    },
    {
      "cell_type": "markdown",
      "source": [
        "2. You have a list of your favourite marvel super heros.\n",
        "heros=['spider man','thor','hulk','iron man','captain america']\n",
        "\n",
        "\n",
        "1. Length of the list\n",
        "2. Add 'black panther' at the end of this list\n",
        "3. You realize that you need to add 'black panther' after 'hulk',\n",
        "   so remove it from the list first and then add it after 'hulk'\n",
        "4. Now you don't like thor and hulk because they get angry easily :)\n",
        "   So you want to remove thor and hulk from list and replace them with doctor strange (because he is cool).\n",
        "   Do that with one line of code.\n",
        "5. Sort the heros list in alphabetical order (Hint. Use dir() functions to list down all functions available in list)"
      ],
      "metadata": {
        "id": "wvoq-Ki0FVus"
      }
    },
    {
      "cell_type": "code",
      "source": [
        "heros=['spider man','thor','hulk','iron man','captain america']"
      ],
      "metadata": {
        "id": "jVCDWoUoExp8"
      },
      "execution_count": 32,
      "outputs": []
    },
    {
      "cell_type": "code",
      "source": [
        "len(heros)"
      ],
      "metadata": {
        "colab": {
          "base_uri": "https://localhost:8080/"
        },
        "id": "XLtOCE_7FdfQ",
        "outputId": "85a4e725-f7b6-49e5-e588-74294700c7f6"
      },
      "execution_count": 33,
      "outputs": [
        {
          "output_type": "execute_result",
          "data": {
            "text/plain": [
              "5"
            ]
          },
          "metadata": {},
          "execution_count": 33
        }
      ]
    },
    {
      "cell_type": "code",
      "source": [
        "heros.append('black panther')\n",
        "heros"
      ],
      "metadata": {
        "colab": {
          "base_uri": "https://localhost:8080/"
        },
        "id": "qUx7aepyFhKD",
        "outputId": "1526c9cd-4464-43c0-8130-b6c93a8114b9"
      },
      "execution_count": 34,
      "outputs": [
        {
          "output_type": "execute_result",
          "data": {
            "text/plain": [
              "['spider man', 'thor', 'hulk', 'iron man', 'captain america', 'black panther']"
            ]
          },
          "metadata": {},
          "execution_count": 34
        }
      ]
    },
    {
      "cell_type": "code",
      "source": [
        "heros.remove('black panther')\n",
        "heros"
      ],
      "metadata": {
        "colab": {
          "base_uri": "https://localhost:8080/"
        },
        "id": "XURijLgqFnbK",
        "outputId": "c200a165-02fd-4c34-8a9a-cfb40bc1d9e2"
      },
      "execution_count": 35,
      "outputs": [
        {
          "output_type": "execute_result",
          "data": {
            "text/plain": [
              "['spider man', 'thor', 'hulk', 'iron man', 'captain america']"
            ]
          },
          "metadata": {},
          "execution_count": 35
        }
      ]
    },
    {
      "cell_type": "code",
      "source": [
        "heros.insert(3,'black panther')\n",
        "heros"
      ],
      "metadata": {
        "colab": {
          "base_uri": "https://localhost:8080/"
        },
        "id": "Yd6_m0C2F802",
        "outputId": "97637c77-7c31-421d-8cd7-3c4d138f5498"
      },
      "execution_count": 36,
      "outputs": [
        {
          "output_type": "execute_result",
          "data": {
            "text/plain": [
              "['spider man', 'thor', 'hulk', 'black panther', 'iron man', 'captain america']"
            ]
          },
          "metadata": {},
          "execution_count": 36
        }
      ]
    },
    {
      "cell_type": "code",
      "source": [
        "heros[1:3]"
      ],
      "metadata": {
        "colab": {
          "base_uri": "https://localhost:8080/"
        },
        "id": "vtWlyS7jGC8c",
        "outputId": "851a79e9-7c6e-43c0-9682-2e9e0c65c199"
      },
      "execution_count": 37,
      "outputs": [
        {
          "output_type": "execute_result",
          "data": {
            "text/plain": [
              "['thor', 'hulk']"
            ]
          },
          "metadata": {},
          "execution_count": 37
        }
      ]
    },
    {
      "cell_type": "code",
      "source": [
        "print('before:',heros)\n",
        "heros[1:3]=['doctor strange']\n",
        "print('after:',heros)"
      ],
      "metadata": {
        "colab": {
          "base_uri": "https://localhost:8080/"
        },
        "id": "9XcK3ZyOGTL8",
        "outputId": "5f699b06-dc93-4cff-b522-687f38cda0bd"
      },
      "execution_count": 38,
      "outputs": [
        {
          "output_type": "stream",
          "name": "stdout",
          "text": [
            "before: ['spider man', 'thor', 'hulk', 'black panther', 'iron man', 'captain america']\n",
            "after: ['spider man', 'doctor strange', 'black panther', 'iron man', 'captain america']\n"
          ]
        }
      ]
    },
    {
      "cell_type": "code",
      "source": [
        "dir(heros)"
      ],
      "metadata": {
        "colab": {
          "base_uri": "https://localhost:8080/"
        },
        "id": "M8t3-RbeGgOr",
        "outputId": "05a2ed75-9021-4dab-ca1d-1c807b5b0c89"
      },
      "execution_count": 41,
      "outputs": [
        {
          "output_type": "execute_result",
          "data": {
            "text/plain": [
              "['__add__',\n",
              " '__class__',\n",
              " '__contains__',\n",
              " '__delattr__',\n",
              " '__delitem__',\n",
              " '__dir__',\n",
              " '__doc__',\n",
              " '__eq__',\n",
              " '__format__',\n",
              " '__ge__',\n",
              " '__getattribute__',\n",
              " '__getitem__',\n",
              " '__gt__',\n",
              " '__hash__',\n",
              " '__iadd__',\n",
              " '__imul__',\n",
              " '__init__',\n",
              " '__init_subclass__',\n",
              " '__iter__',\n",
              " '__le__',\n",
              " '__len__',\n",
              " '__lt__',\n",
              " '__mul__',\n",
              " '__ne__',\n",
              " '__new__',\n",
              " '__reduce__',\n",
              " '__reduce_ex__',\n",
              " '__repr__',\n",
              " '__reversed__',\n",
              " '__rmul__',\n",
              " '__setattr__',\n",
              " '__setitem__',\n",
              " '__sizeof__',\n",
              " '__str__',\n",
              " '__subclasshook__',\n",
              " 'append',\n",
              " 'clear',\n",
              " 'copy',\n",
              " 'count',\n",
              " 'extend',\n",
              " 'index',\n",
              " 'insert',\n",
              " 'pop',\n",
              " 'remove',\n",
              " 'reverse',\n",
              " 'sort']"
            ]
          },
          "metadata": {},
          "execution_count": 41
        }
      ]
    },
    {
      "cell_type": "code",
      "source": [
        "heros.sort()\n",
        "print(heros)"
      ],
      "metadata": {
        "colab": {
          "base_uri": "https://localhost:8080/"
        },
        "id": "8R_Navs_GvMp",
        "outputId": "b4044672-cce4-4406-c277-46e22aed7950"
      },
      "execution_count": 45,
      "outputs": [
        {
          "output_type": "stream",
          "name": "stdout",
          "text": [
            "['black panther', 'captain america', 'doctor strange', 'iron man', 'spider man']\n"
          ]
        }
      ]
    },
    {
      "cell_type": "code",
      "source": [],
      "metadata": {
        "id": "dvOAa6h4G6-4"
      },
      "execution_count": null,
      "outputs": []
    },
    {
      "cell_type": "markdown",
      "source": [
        "3. Create a list of all odd numbers between 1 and a max number. Max number is something you need to take from a user using input() function"
      ],
      "metadata": {
        "id": "Jm_9m-n9HQxv"
      }
    },
    {
      "cell_type": "code",
      "source": [
        "max_num = int(input('insert number till which you want to have odd numbres:'))\n",
        "odd_numbers_list = []\n",
        "i=1\n",
        "while i<=max_num:\n",
        "  if i%2 !=0:\n",
        "    odd_numbers_list.append(i)\n",
        "    i+=1\n",
        "  else:\n",
        "    i+=1\n",
        "  \n",
        "print(odd_numbers_list)"
      ],
      "metadata": {
        "colab": {
          "base_uri": "https://localhost:8080/"
        },
        "id": "PkxxmVIZHR9E",
        "outputId": "7cc731c1-7b8e-4806-a7d7-f4f393b8070e"
      },
      "execution_count": 53,
      "outputs": [
        {
          "output_type": "stream",
          "name": "stdout",
          "text": [
            "insert number till which you want to have odd numbres:25\n",
            "[1, 3, 5, 7, 9, 11, 13, 15, 17, 19, 21, 23, 25]\n"
          ]
        }
      ]
    }
  ]
}